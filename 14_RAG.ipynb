{
 "cells": [
  {
   "attachments": {},
   "cell_type": "markdown",
   "metadata": {},
   "source": [
    "- Retrieval Augmented Generation (RAG) la một kỹ thuật kết nối việc truy xuất thông tin (information retrieval) và tạo văn bản (text generation)\n",
    "\n",
    "- Khi RAG nhận được input, nó sẽ tìm kiếm các tài liệu thích hợp từ các nguồn được chỉ định (ví dụ: Wikipedia, cơ sở kiến ​​thức của công ty, v.v.), kết hợp dữ liệu được truy xuất này (retrieval input) với đầu vào (input) và sau đó cung cấp đầu ra toàn diện với các tài liệu tham khảo.\n",
    "\n",
    "- Cấu trúc đổi mới này cho phép RAG tích hợp liền mạch thông tin mới và đang phát triển mà không cần đào tạo lại toàn bộ mô hình từ đầu. Nó cũng cho phép bạn tinh chỉnh mô hình, nâng cao miền kiến ​​thức của nó vượt xa những gì nó đã được đào tạo."
   ]
  },
  {
   "attachments": {},
   "cell_type": "markdown",
   "metadata": {},
   "source": [
    "### Introduction to Retrieval Augmented Generation (RAG) in AI"
   ]
  },
  {
   "cell_type": "code",
   "execution_count": null,
   "metadata": {},
   "outputs": [],
   "source": []
  }
 ],
 "metadata": {
  "language_info": {
   "name": "python"
  },
  "orig_nbformat": 4
 },
 "nbformat": 4,
 "nbformat_minor": 2
}
