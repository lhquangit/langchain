{
 "cells": [
  {
   "attachments": {},
   "cell_type": "markdown",
   "metadata": {},
   "source": [
    "- **TextLoader**: Handles plain text files\n",
    "- **PyPDFLoader**: Specializes in PDF files, offering easy access to content and metadata\n",
    "- **SeleniumURLLoader**: Load HTML documents from URLs that require JavaScript rendering"
   ]
  },
  {
   "attachments": {},
   "cell_type": "markdown",
   "metadata": {},
   "source": [
    "### TextLoader"
   ]
  },
  {
   "cell_type": "code",
   "execution_count": 3,
   "metadata": {},
   "outputs": [],
   "source": [
    "from langchain.document_loaders import TextLoader\n",
    "\n",
    "loader = TextLoader('my_file.txt')\n",
    "documents = loader.load()"
   ]
  },
  {
   "cell_type": "code",
   "execution_count": 4,
   "metadata": {},
   "outputs": [
    {
     "data": {
      "text/plain": [
       "[Document(page_content='Google opens up its AI language model PaLM to challenge OpenAI and GPT-3\\nGoogle is offering developers access to one of its most advanced AI language models: PaLM.\\nThe search giant is launching an API for PaLM alongside a number of AI enterprise tools\\nit says will help businesses “generate text, images, code, videos, audio, and more from\\nsimple natural language prompts.”\\n\\nPaLM is a large language model, or LLM, similar to the GPT series created by OpenAI or\\nMeta’s LLaMA family of models. Google first announced PaLM in April 2022. Like other LLMs,\\nPaLM is a flexible system that can potentially carry out all sorts of text generation and\\nediting tasks. You could train PaLM to be a conversational chatbot like ChatGPT, for\\nexample, or you could use it for tasks like summarizing text or even writing code.\\n(It’s similar to features Google also announced today for its Workspace apps like Google\\nDocs and Gmail.)\\n', metadata={'source': 'my_file.txt'})]"
      ]
     },
     "execution_count": 4,
     "metadata": {},
     "output_type": "execute_result"
    }
   ],
   "source": [
    "documents"
   ]
  },
  {
   "attachments": {},
   "cell_type": "markdown",
   "metadata": {},
   "source": [
    "### PyPDFLoader (PDF)"
   ]
  },
  {
   "cell_type": "code",
   "execution_count": 5,
   "metadata": {},
   "outputs": [],
   "source": [
    "!pip install -q pypdf"
   ]
  },
  {
   "cell_type": "code",
   "execution_count": null,
   "metadata": {},
   "outputs": [],
   "source": [
    "from langchain.document_loaders import PyPDFLoader\n",
    "\n",
    "loader = PyPDFLoader(\"example_data/layout-parser-paper.pdf\")\n",
    "pages = loader.load_and_split()\n",
    "\n",
    "print(pages[0])"
   ]
  },
  {
   "attachments": {},
   "cell_type": "markdown",
   "metadata": {},
   "source": [
    "### SeleniumURLLoader (URL)"
   ]
  },
  {
   "cell_type": "code",
   "execution_count": 6,
   "metadata": {},
   "outputs": [],
   "source": [
    "!pip install -q unstructured selenium"
   ]
  },
  {
   "cell_type": "code",
   "execution_count": 7,
   "metadata": {},
   "outputs": [
    {
     "name": "stdout",
     "output_type": "stream",
     "text": [
      "page_content='NaN / NaN\\n\\nNaN / NaN\\n\\nVN\\n\\nBỏ qua điều hướng\\n\\nTìm kiếm\\n\\nTìm kiếm bằng giọng nói\\n\\nĐăng nhập\\n\\nVN\\n\\nOPENASSISTANT TAKES ON CHATGPT!\\n\\nTìm kiếm\\n\\nThông tin\\n\\nMua sắm\\n\\nXem sau\\n\\nChia sẻ\\n\\nSao chép đường liên kết\\n\\nNhấn để bật tiếng\\n\\n2x\\n\\nNếu phát lại không bắt đầu ngay, hãy thử khởi động lại thiết bị của bạn.\\n\\nTiếp theo\\n\\nTrực tiếpSắp diễn ra\\n\\nPhát ngay\\n\\nMachine Learning Street Talk\\n\\nĐăng ký\\n\\nĐã đăng ký\\n\\nBạn đã đăng xuất\\n\\nCác video mà bạn xem có thể được thêm vào nhật ký xem và gây ảnh hưởng đến phần đề xuất trên TV. Để tránh điều này, hãy hủy rồi đăng nhập vào YouTube trên máy tính.\\n\\nChia sẻ\\n\\nĐã xảy ra lỗi trong khi truy xuất thông tin chia sẻ. Vui lòng thử lại sau.\\n\\n2:19\\n\\n2:19 / 59:51\\n\\nXem toàn bộ video\\n\\n•\\n\\nDiscussing Open Assistant and Fine-tuning Language Models\\n\\nCuộn để biết thêm chi tiết\\n\\nĐoạn video có tiêu đề\\n\\nDiscussing Open Assistant and Fine-tuning Language Models\\n    Discussing Open Assistant and Fine-tuning Language Models\\n    0:00\\n\\nDiscussing Open Assistant and Fine-tuning Language Models\\n\\n0:00\\n\\nOpen Assistant and Data Collection\\n    Open Assistant and Data Collection\\n    16:00\\n\\nOpen Assistant and Data Collection\\n\\n16:00\\n\\nData Collection and User Preferences\\n    Data Collection and User Preferences\\n    32:00\\n\\nData Collection and User Preferences\\n\\n32:00\\n\\nAddressing Criticisms and Ethical Considerations\\n    Addressing Criticisms and Ethical Considerations\\n    38:00\\n\\nAddressing Criticisms and Ethical Considerations\\n\\n38:00\\n\\nEthical Guidelines and Open AI Research\\n    Ethical Guidelines and Open AI Research\\n    48:00\\n\\nEthical Guidelines and Open AI Research\\n\\n48:00\\n\\nĐồng bộ hóa với thời gian của video\\n\\nSản phẩm\\n\\nMachine Learning Street Talk đã gắn thẻ cho các sản phẩm bên dưới.\\n\\nTìm hiểu thêm\\n\\nNew Pineapple Logo Essential TeeSpring833.894\\xa0₫\\n            \\n          Xem\\n\\nMLST new logo gear Indoor PillowSpring711.227\\xa0₫\\n            \\n          Xem\\n\\nNew Pineapple Logo MugSpring392.291\\xa0₫\\n            \\n          Xem\\n\\nNew Pineapple Logo Unisex Full Zip HoodieSpring1.250.963\\xa0₫\\n            \\n          Xem\\n\\nMLST new logo gear Essential TeeSpring833.894\\xa0₫\\n            \\n          Xem\\n\\nNew Pineapple Logo Essential TeeSpring833.894\\xa0₫\\n            \\n          Xem\\n\\nMLST new logo gear Essential TeeSpring833.894\\xa0₫\\n            \\n          Xem\\n\\nMLST new logo gear AS Colour Stencil HoodieSpring1.643.499\\xa0₫\\n            \\n          Xem\\n\\nNew Pineapple Logo Unisex Full Zip HoodieSpring1.250.963\\xa0₫\\n            \\n          Xem\\n\\nNew Pineapple Logo Unisex Full Zip HoodieSpring1.250.963\\xa0₫\\n            \\n          Xem\\n\\nNew Pineapple Logo Essential TeeSpring833.894\\xa0₫\\n            \\n          Xem\\n\\nMLST new logo gear Classic TeeSpring695.034\\xa0₫\\n            \\n          Xem\\n\\nMLST new logo gear Essential TeeSpring833.894\\xa0₫\\n            \\n          Xem\\n\\nMLST new logo gear Women\\'s Classic TeeSpring613.093\\xa0₫\\n            \\n          Xem\\n\\nNew Pineapple Logo Die Cut StickerSpring171.490\\xa0₫\\n            \\n          Xem\\n\\nMLST new logo gear Camping mugSpring416.825\\xa0₫\\n            \\n          Xem\\n\\nMLST new logo gear Classic Crew Neck Comfortsoft T-ShirtSpring613.093\\xa0₫\\n            \\n          Xem\\n\\nMLST new logo gear MugSpring392.291\\xa0₫\\n            \\n          Xem\\n\\nMLST new logo gear Women\\'s Classic TeeSpring613.093\\xa0₫\\n            \\n          Xem\\n\\nNew Pineapple Logo Essential TeeSpring833.894\\xa0₫\\n            \\n          Xem\\n\\nMLST new logo gear AS Colour Stencil HoodieSpring1.643.499\\xa0₫\\n            \\n          Xem\\n\\nMLST new logo gear AS Colour Stencil HoodieSpring1.643.499\\xa0₫\\n            \\n          Xem\\n\\nMLST new logo gear AS Colour Stencil HoodieSpring1.643.499\\xa0₫\\n            \\n          Xem\\n\\nMLST new logo gear Essential TeeSpring833.894\\xa0₫\\n            \\n          Xem\\n\\nMLST new logo gear Essential TeeSpring833.894\\xa0₫\\n            \\n          Xem\\n\\nNew Pineapple Logo Essential TeeSpring833.894\\xa0₫\\n            \\n          Xem\\n\\nNew Pineapple Logo Essential TeeSpring833.894\\xa0₫\\n            \\n          Xem\\n\\nNew Pineapple Logo Unisex Full Zip HoodieSpring1.250.963\\xa0₫\\n            \\n          Xem\\n\\nMLST new logo gear Essential TeeSpring833.894\\xa0₫\\n            \\n          Xem\\n\\nMLST new logo gear Women\\'s Classic TeeSpring613.093\\xa0₫\\n            \\n          Xem\\n\\nNội dung mô tả\\n\\nPatreon:\\n\\n/\\xa0mlst\\n\\nDiscord:\\n\\n/\\xa0discord\\n\\nTwitter:\\n\\n/\\xa0mlstreettalk\\n\\nIn this eye-opening interview, we dive deep into the world of Open Assistant, an ambitious project aiming to create a truly open-source AI language model. Our guest reveals the behind-the-scenes process of developing this revolutionary technology, addressing the critical role of community involvement and the importance of a diverse dataset. They also tackle the controversial topic of AI ethics, shedding light on the current state of the field and the necessity for public accountability.\\n\\nJoin us as we explore the inner workings of fine-tuned language models like LAMA and discuss how human data plays a crucial role in the development of intelligent AI systems. Our guest shares their experience of working on the Open Assistant project and the challenges they faced in creating a platform that allows people to contribute to the data set.\\n\\nWe also delve into the issue of privacy, discussing the terms of service governing data usage in the project, and how the team is working to improve transparency and user control over their data. The conversation takes a critical turn as our guest addresses the criticisms and ethical considerations surrounding the evaluation and user preference study of their chatbot, comparing it to chat GPT.\\n\\nFinally, we explore the future of the ML News channel and the Open Assistant project, touching on the potential impact of AI on society and the need for ethical guidelines and principles to ensure the overall welfare of humanity. Don\\'t miss this insightful and thought-provoking conversation that will change the way you view AI and its role in our world!\\n\\nhttps://open-assistant.io/\\n\\nDr. Yannic Kilcher:\\n\\n/\\xa0@yannickilcher\\n\\nDr. Tim Scarfe CTO XRAI:\\n\\nhttp://xrai.com\\n\\nTable of Contents:\\nDiscussing Open Assistant and Fine-tuning Language Models [\\n\\n00:00:00\\n\\n]\\nOpen Assistant and Data Collection [\\n\\n00:16:00\\n\\n]\\nData Collection and User Preferences [\\n\\n00:32:00\\n\\n]\\nAddressing Criticisms and Ethical Considerations [\\n\\n00:38:00\\n\\n]\\nEthical Guidelines and Open AI Research [\\n\\n00:48:00\\n\\nPhân cảnh\\n      \\n    \\n  \\n  \\n  \\n  \\n  \\n  \\n  Xem tất cả\\n\\nDiscussing Open Assistant and Fine-tuning Language Models\\n    Discussing Open Assistant and Fine-tuning Language Models\\n    0:00\\n\\nDiscussing Open Assistant and Fine-tuning Language Models\\n\\n0:00\\n\\nOpen Assistant and Data Collection\\n    Open Assistant and Data Collection\\n    16:00\\n\\nOpen Assistant and Data Collection\\n\\n16:00\\n\\nData Collection and User Preferences\\n    Data Collection and User Preferences\\n    32:00\\n\\nData Collection and User Preferences\\n\\n32:00\\n\\nAddressing Criticisms and Ethical Considerations\\n    Addressing Criticisms and Ethical Considerations\\n    38:00\\n\\nAddressing Criticisms and Ethical Considerations\\n\\n38:00\\n\\nBản chép lời\\n\\nTheo dõi nội dung video bằng bản chép lời.\\n\\nHiện bản chép lời\\n\\nMachine Learning Street Talk\\n    \\n      105\\xa0N người đăng ký\\n\\nVideo\\n\\nGiới thiệu\\n\\nBình luận\\n      227\\n\\nBình luận hàng đầu\\n\\nMới nhất xếp trước\\n\\nBản chép lời\\n\\nNaN / NaN\\n\\nOPENASSISTANT TAKES ON CHATGPT!\\n\\nMachine Learning Street Talk\\n\\nMachine Learning Street Talk\\n\\n<__slot-el>\\n\\nĐăng ký\\n\\nĐã đăng ký\\n\\n1,5\\xa0N\\n\\nChia sẻ\\n\\n47\\xa0N lượt xem\\n\\n10 tháng trước\\n\\n47.827 lượt xem • 19 thg 4, 2023\\n\\nPatreon: \\xa0\\xa0/\\xa0mlst\\xa0\\xa0\\nDiscord: \\xa0\\xa0/\\xa0discord\\xa0\\xa0\\nTwitter: \\xa0\\xa0/\\xa0mlstreettalk\\n\\nPhân cảnh\\n      \\n    \\n  \\n  \\n  \\n  \\n  \\n  \\n  Xem tất cả\\n\\nDiscussing Open Assistant and Fine-tuning Language Models\\n    Discussing Open Assistant and Fine-tuning Language Models\\n    0:00\\n\\nDiscussing Open Assistant and Fine-tuning Language Models\\n\\n0:00\\n\\nOpen Assistant and Data Collection\\n    Open Assistant and Data Collection\\n    16:00\\n\\nOpen Assistant and Data Collection\\n\\n16:00\\n\\nData Collection and User Preferences\\n    Data Collection and User Preferences\\n    32:00\\n\\nData Collection and User Preferences\\n\\n32:00\\n\\nAddressing Criticisms and Ethical Considerations\\n    Addressing Criticisms and Ethical Considerations\\n    38:00\\n\\nAddressing Criticisms and Ethical Considerations\\n\\n38:00\\n\\nEthical Guidelines and Open AI Research\\n    Ethical Guidelines and Open AI Research\\n    48:00\\n\\nEthical Guidelines and Open AI Research\\n\\n48:00\\n\\nBản chép lời\\n\\nTheo dõi nội dung video bằng bản chép lời.\\n\\nHiện bản chép lời\\n\\nMachine Learning Street Talk\\n    \\n      105\\xa0N người đăng ký\\n\\nVideo\\n\\nGiới thiệu\\n\\nOPENASSISTANT TAKES ON CHATGPT!\\n\\n47.827 lượt xem\\n\\n47\\xa0N lượt xem\\n\\n1,5\\xa0N\\n\\nChia sẻ\\n\\nTải xuống\\n\\nTải xuống\\n\\nLưu\\n\\nMua sắm tại cửa hàng của Machine Learning Street Talk\\n\\nNew Pineapple Logo Essential Tee\\n            \\n              \\n                \\n                \\n                  833.894\\xa0₫\\n                  \\n                    \\n                  \\n                \\n              \\n            \\n            \\n              \\n                Spring\\n                \\n              \\n              \\n              \\n            \\n          \\n          \\n            \\n              \\n            \\n            Elevate your style and broadcast your passion for cutting-edge technology with our exclusive Machine Learning Street Talk merch! Join the conversation, wear your knowledge, and be a part of the Machine Learning Street Talk movement.\\n          \\n        \\n      \\n      \\n        Mua\\n        \\n          Spring\\n\\nMLST new logo gear Indoor Pillow\\n            \\n              \\n                \\n                \\n                  711.227\\xa0₫\\n                  \\n                    \\n                  \\n                \\n              \\n            \\n            \\n              \\n                Spring\\n                \\n              \\n              \\n              \\n            \\n          \\n          \\n            \\n              \\n            \\n            Sleek, modern merch for ML enthusiasts. Wear the essence of AI with our logo tees, hoodies, and accessorize with mugs & stickers. #MachineLearningLifestyle Ultra plush decorative throw pillow. Suitable for indoor use. Designed by independent artists and printed in USA. Plush soft feel. Easy to wash.\\n          \\n        \\n      \\n      \\n        Mua\\n        \\n          Spring\\n\\nNew Pineapple Logo Mug\\n            \\n              \\n                \\n                \\n                  392.291\\xa0₫\\n                  \\n                    \\n                  \\n                \\n              \\n            \\n            \\n              \\n                Spring\\n                \\n              \\n              \\n              \\n            \\n          \\n          \\n            \\n              \\n            \\n            Elevate your style and broadcast your passion for cutting-edge technology with our exclusive Machine Learning Street Talk merch! Join the conversation, wear your knowledge, and be a part of the Machine Learning Street Talk movement.\\n          \\n        \\n      \\n      \\n        Mua\\n        \\n          Spring\\n\\nNew Pineapple Logo Unisex Full Zip Hoodie\\n            \\n              \\n                \\n                \\n                  1.250.963\\xa0₫\\n                  \\n                    \\n                  \\n                \\n              \\n            \\n            \\n              \\n                Spring\\n                \\n              \\n              \\n              \\n            \\n          \\n          \\n            \\n              \\n            \\n            Elevate your style and broadcast your passion for cutting-edge technology with our exclusive Machine Learning Street Talk merch! Join the conversation, wear your knowledge, and be a part of the Machine Learning Street Talk movement.\\n          \\n        \\n      \\n      \\n        Mua\\n        \\n          Spring\\n\\nMLST new logo gear Essential Tee\\n            \\n              \\n                \\n                \\n                  833.894\\xa0₫\\n                  \\n                    \\n                  \\n                \\n              \\n            \\n            \\n              \\n                Spring\\n                \\n              \\n              \\n              \\n            \\n          \\n          \\n            \\n              \\n            \\n            Sleek, modern merch for ML enthusiasts. Wear the essence of AI with our logo tees, hoodies, and accessorize with mugs & stickers. #MachineLearningLifestyle\\n          \\n        \\n      \\n      \\n        Mua\\n        \\n          Spring\\n\\nNew Pineapple Logo Essential Tee\\n            \\n              \\n                \\n                \\n                  833.894\\xa0₫\\n                  \\n                    \\n                  \\n                \\n              \\n            \\n            \\n              \\n                Spring\\n                \\n              \\n              \\n              \\n            \\n          \\n          \\n            \\n              \\n            \\n            Elevate your style and broadcast your passion for cutting-edge technology with our exclusive Machine Learning Street Talk merch! Join the conversation, wear your knowledge, and be a part of the Machine Learning Street Talk movement.\\n          \\n        \\n      \\n      \\n        Mua\\n        \\n          Spring\\n\\n2:31:37\\n  Đang phát\\n\\nFuture of Generative AI [David Foster]\\n          \\n        \\n        \\n          \\n          \\n\\n  \\n    \\n  \\n    Machine Learning Street Talk\\n  \\n  \\n  \\n    Machine Learning Street Talk\\n  \\n\\n\\n\\n\\n\\n\\n    •\\n    \\n  \\n  \\n    \\n    \\n    •\\n    \\n      36\\xa0N lượt xem\\n    \\n      9 tháng trước\\n\\n2:06:38\\n  Đang phát\\n\\nDeep Learning is a strange beast.\\n          \\n        \\n        \\n          \\n          \\n\\n  \\n    \\n  \\n    Machine Learning Street Talk\\n  \\n  \\n  \\n    Machine Learning Street Talk\\n  \\n\\n\\n\\n\\n\\n\\n    •\\n    \\n  \\n  \\n    \\n    \\n    •\\n    \\n      205\\xa0N lượt xem\\n    \\n      1 tháng trước\\n\\n2:01:55\\n  Đang phát\\n\\nROBERT MILES - \"There is a good chance this kills everyone\"\\n          \\n        \\n        \\n          \\n          \\n\\n  \\n    \\n  \\n    Machine Learning Street Talk\\n  \\n  \\n  \\n    Machine Learning Street Talk\\n  \\n\\n\\n\\n\\n\\n\\n    •\\n    \\n  \\n  \\n    \\n    \\n    •\\n    \\n      61\\xa0N lượt xem\\n    \\n      8 tháng trước\\n\\n1:57:45\\n  Đang phát\\n\\nThe spelled-out intro to language modeling: building makemore\\n          \\n        \\n        \\n          \\n          \\n\\n  \\n    \\n  \\n    Andrej Karpathy\\n  \\n  \\n  \\n    Andrej Karpathy\\n  \\n\\n\\n\\n\\n\\n\\n    •\\n    \\n  \\n  \\n    \\n    \\n    •\\n    \\n      499\\xa0N lượt xem\\n    \\n      1 năm trước\\n\\n3:36:55\\n  Đang phát\\n\\nNOAM CHOMSKY - THE GHOST IN THE MACHINE\\n          \\n        \\n        \\n          \\n          \\n\\n  \\n    \\n  \\n    Machine Learning Street Talk\\n  \\n  \\n  \\n    Machine Learning Street Talk\\n  \\n\\n\\n\\n\\n\\n\\n    •\\n    \\n  \\n  \\n    \\n    \\n    •\\n    \\n      731\\xa0N lượt xem\\n    \\n      1 năm trước\\n\\n1:33:58\\n  Đang phát\\n\\nWhat is missing from current AI?\\n          \\n        \\n        \\n          \\n          \\n\\n  \\n    \\n  \\n    Machine Learning Street Talk\\n  \\n  \\n  \\n    Machine Learning Street Talk\\n  \\n\\n\\n\\n\\n\\n\\n    •\\n    \\n  \\n  \\n    \\n    \\n    •\\n    \\n      21\\xa0N lượt xem\\n    \\n      6 ngày trước\\n    \\n  \\n\\n\\n  \\n\\n\\n\\n          \\n          Mới\\n\\n42:30\\n  Đang phát\\n\\nFull interview: \"Godfather of artificial intelligence\" talks impact and potential of AI\\n          \\n        \\n        \\n          \\n          \\n\\n  \\n    \\n  \\n    CBS Mornings\\n  \\n  \\n  \\n    CBS Mornings\\n  \\n\\n\\n\\n\\n  Đã xác minh\\n\\n\\n\\n    •\\n    \\n  \\n  \\n    \\n    \\n    •\\n    \\n      1,7\\xa0Tr lượt xem\\n    \\n      10 tháng trước\\n\\n2:59:21\\n  Đang phát\\n\\nKARL FRISTON - INTELLIGENCE 3.0\\n          \\n        \\n        \\n          \\n          \\n\\n  \\n    \\n  \\n    Machine Learning Street Talk\\n  \\n  \\n  \\n    Machine Learning Street Talk\\n  \\n\\n\\n\\n\\n\\n\\n    •\\n    \\n  \\n  \\n    \\n    \\n    •\\n    \\n      118\\xa0N lượt xem\\n    \\n      11 tháng trước\\n\\n54:25\\n  Đang phát\\n\\nCHATGPT + WOLFRAM just broke the internet.\\n          \\n        \\n        \\n          \\n          \\n\\n  \\n    \\n  \\n    Machine Learning Street Talk\\n  \\n  \\n  \\n    Machine Learning Street Talk\\n  \\n\\n\\n\\n\\n\\n\\n    •\\n    \\n  \\n  \\n    \\n    \\n    •\\n    \\n      467\\xa0N lượt xem\\n    \\n      10 tháng trước\\n\\n51:51\\n  Đang phát\\n\\n#80 AIDAN GOMEZ [CEO Cohere] - Language as Software\\n          \\n        \\n        \\n          \\n          \\n\\n  \\n    \\n  \\n    Machine Learning Street Talk\\n  \\n  \\n  \\n    Machine Learning Street Talk\\n  \\n\\n\\n\\n\\n\\n\\n    •\\n    \\n  \\n  \\n    \\n    \\n    •\\n    \\n      18\\xa0N lượt xem\\n    \\n      1 năm trước\\n\\n3:55:27\\n  Đang phát\\n\\nReinforcement Learning Course - Full Machine Learning Tutorial\\n          \\n        \\n        \\n          \\n          \\n\\n  \\n    \\n  \\n    freeCodeCamp.org\\n  \\n  \\n  \\n    freeCodeCamp.org\\n  \\n\\n\\n\\n\\n  Đã xác minh\\n\\n\\n\\n    •\\n    \\n  \\n  \\n    \\n    \\n    •\\n    \\n      493\\xa0N lượt xem\\n    \\n      4 năm trước\\n\\n1:13:25\\n  Đang phát\\n\\nBeyond ChatGPT: Stuart Russell on the Risks and Rewards of A.I.\\n          \\n        \\n        \\n          \\n          \\n\\n  \\n    \\n  \\n    The Commonwealth Club of California\\n  \\n  \\n  \\n    The Commonwealth Club of California\\n  \\n\\n\\n\\n\\n\\n\\n    •\\n    \\n  \\n  \\n    \\n    \\n    •\\n    \\n      208\\xa0N lượt xem\\n    \\n      10 tháng trước\\n    \\n  \\n\\n\\n  \\n\\n\\n\\n          \\n          Hoạt động gây quỹ\\n\\n2:40:14\\n  Đang phát\\n\\nAVOIDING AGI APOCALYPSE - CONNOR LEAHY\\n          \\n        \\n        \\n          \\n          \\n\\n  \\n    \\n  \\n    Machine Learning Street Talk\\n  \\n  \\n  \\n    Machine Learning Street Talk\\n  \\n\\n\\n\\n\\n\\n\\n    •\\n    \\n  \\n  \\n    \\n    \\n    •\\n    \\n      88\\xa0N lượt xem\\n    \\n      10 tháng trước\\n\\n2:56:06\\n  Đang phát\\n\\ne/acc Leader Beff Jezos vs Doomer Connor Leahy\\n          \\n        \\n        \\n          \\n          \\n\\n  \\n    \\n  \\n    Machine Learning Street Talk\\n  \\n  \\n  \\n    Machine Learning Street Talk\\n  \\n\\n\\n\\n\\n\\n\\n    •\\n    \\n  \\n  \\n    \\n    \\n    •\\n    \\n      34\\xa0N lượt xem\\n    \\n      2 tuần trước\\n\\n59:14\\n  Đang phát\\n\\nThe Truth about AI 1/3 - 2023 Christmas Lectures with Mike Wooldridge\\n          \\n        \\n        \\n          \\n          \\n\\n  \\n    \\n  \\n    The Royal Institution\\n  \\n  \\n  \\n    The Royal Institution\\n  \\n\\n\\n\\n\\n  Đã xác minh\\n\\n\\n\\n    •\\n    \\n  \\n  \\n    \\n    \\n    •\\n    \\n      27\\xa0N lượt xem\\n    \\n      1 tháng trước\\n\\n3:51:31\\n  Đang phát\\n\\nNo Black Box Machine Learning Course – Learn Without Libraries\\n          \\n        \\n        \\n          \\n          \\n\\n  \\n    \\n  \\n    freeCodeCamp.org\\n  \\n  \\n  \\n    freeCodeCamp.org\\n  \\n\\n\\n\\n\\n  Đã xác minh\\n\\n\\n\\n    •\\n    \\n  \\n  \\n    \\n    \\n    •\\n    \\n      923\\xa0N lượt xem\\n    \\n      10 tháng trước\\n\\n3:13:14\\n  Đang phát\\n\\nPrompt Engineering for Web Devs - ChatGPT and Bard Tutorial\\n          \\n        \\n        \\n          \\n          \\n\\n  \\n    \\n  \\n    freeCodeCamp.org\\n  \\n  \\n  \\n    freeCodeCamp.org\\n  \\n\\n\\n\\n\\n  Đã xác minh\\n\\n\\n\\n    •\\n    \\n  \\n  \\n    \\n    \\n    •\\n    \\n      82\\xa0N lượt xem\\n    \\n      4 tháng trước\\n\\n55:48\\n  Đang phát\\n\\nBill Gates on AI and the rapidly evolving future of computing\\n          \\n        \\n        \\n          \\n          \\n\\n  \\n    \\n  \\n    Microsoft\\n  \\n  \\n  \\n    Microsoft\\n  \\n\\n\\n\\n\\n  Đã xác minh\\n\\n\\n\\n    •\\n    \\n  \\n  \\n    \\n    \\n    •\\n    \\n      642\\xa0N lượt xem\\n    \\n      10 tháng trước\\n\\n30:10\\n  Đang phát\\n\\nThe Inside Story of ChatGPT’s Astonishing Potential | Greg Brockman | TED\\n          \\n        \\n        \\n          \\n          \\n\\n  \\n    \\n  \\n    TED\\n  \\n  \\n  \\n    TED\\n  \\n\\n\\n\\n\\n  Đã xác minh\\n\\n\\n\\n    •\\n    \\n  \\n  \\n    \\n    \\n    •\\n    \\n      1,7\\xa0Tr lượt xem\\n    \\n      9 tháng trước\\n\\n16:52\\n  Đang phát\\n\\nThe Star That Shouldn\\'t Exist\\n          \\n        \\n        \\n          \\n          \\n\\n  \\n    \\n  \\n    Cool Worlds\\n  \\n  \\n  \\n    Cool Worlds\\n  \\n\\n\\n\\n\\n\\n\\n    •\\n    \\n  \\n  \\n    \\n    \\n    •\\n    \\n      188\\xa0N lượt xem\\n    \\n      1 ngày trước\\n    \\n  \\n\\n\\n  \\n\\n\\n\\n          \\n          Mới\\n\\nHiện thêm\\n\\nTìm hiểu nguyên nhân' metadata={'source': 'https://www.youtube.com/watch?v=TFa539R09EQ&t=139s', 'title': 'OPENASSISTANT TAKES ON CHATGPT! - YouTube', 'description': 'Patreon: https://www.patreon.com/mlstDiscord: https://discord.gg/ESrGqhf5CBTwitter: https://twitter.com/MLStreetTalkIn this eye-opening interview, we dive de...', 'language': 'vi-VN'}\n"
     ]
    }
   ],
   "source": [
    "from langchain.document_loaders import SeleniumURLLoader\n",
    "\n",
    "urls = [\n",
    "    \"https://www.youtube.com/watch?v=TFa539R09EQ&t=139s\",\n",
    "    \"https://www.youtube.com/watch?v=6Zv6A_9urh4&t=112s\"\n",
    "]\n",
    "\n",
    "loader = SeleniumURLLoader(urls=urls)\n",
    "data = loader.load()\n",
    "\n",
    "print(data[0])"
   ]
  },
  {
   "attachments": {},
   "cell_type": "markdown",
   "metadata": {},
   "source": [
    "The SeleniumURLLoader class includes the following attributes:\n",
    "\n",
    "- URLs (List[str]): List of URLs to load.\n",
    "- continue_on_failure (bool, default=True): Continues loading other URLs on failure if True.\n",
    "- browser (str, default=\"chrome\"): Browser selection, either 'Chrome' or 'Firefox'.\n",
    "- executable_path (Optional[str], default=None): Browser executable path.\n",
    "- headless (bool, default=True): Browser runs in headless mode if True."
   ]
  },
  {
   "attachments": {},
   "cell_type": "markdown",
   "metadata": {},
   "source": [
    "Customize these attributes during SeleniumURLLoader instance initialization, such as using Firefox instead of Chrome by setting the browser to \"firefox\":"
   ]
  },
  {
   "cell_type": "code",
   "execution_count": null,
   "metadata": {},
   "outputs": [],
   "source": [
    "loader = SeleniumURLLoader(urls=urls, browser=\"firefox\")"
   ]
  },
  {
   "attachments": {},
   "cell_type": "markdown",
   "metadata": {},
   "source": [
    "### Google Drive loader"
   ]
  },
  {
   "cell_type": "code",
   "execution_count": null,
   "metadata": {},
   "outputs": [],
   "source": [
    "from langchain.document_loaders import GoogleDriveLoader\n",
    "\n",
    "loader = GoogleDriveLoader(\n",
    "    folder_id=\"your_folder_id\",\n",
    "    recursive=False  # Optional: Fetch files from subfolders recursively. Defaults to False.\n",
    ")\n",
    "\n",
    "docs = loader.load()"
   ]
  }
 ],
 "metadata": {
  "kernelspec": {
   "display_name": "langchain",
   "language": "python",
   "name": "python3"
  },
  "language_info": {
   "codemirror_mode": {
    "name": "ipython",
    "version": 3
   },
   "file_extension": ".py",
   "mimetype": "text/x-python",
   "name": "python",
   "nbconvert_exporter": "python",
   "pygments_lexer": "ipython3",
   "version": "3.9.18"
  },
  "orig_nbformat": 4
 },
 "nbformat": 4,
 "nbformat_minor": 2
}
